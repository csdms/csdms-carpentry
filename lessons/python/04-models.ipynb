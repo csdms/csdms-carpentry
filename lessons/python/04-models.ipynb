{
 "cells": [
  {
   "cell_type": "markdown",
   "metadata": {},
   "source": [
    "Many members of our community focus on developing numerical models to study how landscapes evolve over time. The simplest and most commonly used transport law used to capture the evolution of hillslopes is a diffusion equation:\n",
    "\n",
    "$$\\frac{\\partial z}{\\partial t} = K \\; \\frac{\\partial^2 z}{\\partial x^2}$$\n",
    "\n",
    "where $z$ is elevation, $x$ is the horizontal distance, and $K$ is a landscape diffusion coefficient.\n",
    "\n",
    "## Finite difference methods\n",
    "\n",
    "We can solve partial differential equations using finite difference methods by replacing the spatial and time derivatives with approximations that use the gridded data. $xx$ is the index along an array of x positions and $tt$ is the timestep.\n",
    "\n",
    "The time derivative $\\partial z/\\partial t$ can be approximated using a forward difference:\n",
    "\n",
    "$$\\frac{\\partial z}{\\partial t} \\approx \\frac{z_{xx, \\; tt+1} - z_{xx, \\; tt}}{d t}$$\n",
    "\n",
    "The second spatial derivative $\\frac{\\partial^2 z}{\\partial x^2}$ can be approximated by combining a forward and a backwards difference:\n",
    "\n",
    "$$\\frac{\\partial^2 z}{\\partial x^2} \\approx \\frac{z_{xx+1, \\; tt} - 2 z_{xx, \\; tt} + z_{xx-1, \\; tt}}{(d x)^2}$$\n",
    "\n",
    "The diffusion equation can then be rewritten as:\n",
    "\n",
    "$$\\frac{z_{xx, \\; tt+1} - z_{xx, \\; tt}}{d t} = K \\;  \\frac{z_{xx+1, \\; tt} - 2 z_{xx, \\; tt} + z_{xx-1, \\; tt}}{(d x)^2}$$\n",
    "\n",
    "We can rearrange this equation to solve for the elevation $z$ at position $x$ at timestep $t+1$:\n",
    "\n",
    "$$z_{xx, \\; tt+1} = z_{xx, \\; tt} + K \\; d t \\; \\frac{z_{xx+1, \\; tt} - 2 z_{xx, \\; tt} + z_{xx-1, \\; tt}}{(d x)^2}$$\n",
    "\n",
    "Essentially, the elevation of a point at any timestep depends on the elevation of that point and its two neighbors at the previous timestep\n",
    "\n",
    "[[[[[[[[[[[[[[[[[[[[add fig here]]]]]]]]]]]]]]]]]]]]]"
   ]
  },
  {
   "cell_type": "markdown",
   "metadata": {},
   "source": [
    "## Diffusion in 1D\n",
    "\n",
    "Let's start by simulating the evolution of a 1D profile across our dataset due to diffusion. First, we need to extract a profile across the DEM:"
   ]
  },
  {
   "cell_type": "code",
   "execution_count": 1,
   "metadata": {
    "collapsed": false
   },
   "outputs": [
    {
     "data": {
      "text/plain": [
       "[<matplotlib.lines.Line2D at 0x106d688d0>]"
      ]
     },
     "execution_count": 1,
     "metadata": {},
     "output_type": "execute_result"
    },
    {
     "data": {
      "image/png": "[encoded data removed]",
      "text/plain": [
       "<matplotlib.figure.Figure at 0x1055b6550>"
      ]
     },
     "metadata": {},
     "output_type": "display_data"
    }
   ],
   "source": [
    "import numpy as np\n",
    "from matplotlib import pyplot as plt\n",
    "%matplotlib inline\n",
    "\n",
    "topo = np.loadtxt('data/topo.asc', delimiter=',')\n",
    "\n",
    "profile = topo[:,120]\n",
    "\n",
    "plt.plot(profile, 'k*-')"
   ]
  },
  {
   "cell_type": "markdown",
   "metadata": {},
   "source": [
    "This is the topography at time $t = 0$. For every point in the array, the topography at time $t = dt$ is going to be given by the equation above.\n",
    "\n",
    "Let's create a new NumPy array of the same shape as the profile where we can store the values of the new elevation values. The NumPy function `zeros_like()` creates an array of the same shape where every entry is zero:\n",
    "\n",
    "\n",
    "\n",
    "\n",
    "\n",
    "Let's now model the evolution of this profile due to diffusion.\n",
    "\n",
    "\n",
    "\n",
    "\n",
    "We will follow this algorithm:\n",
    "\n",
    "* loop through time ($\\; d t \\;$)\n",
    "    * step through the profile ($\\; d x \\;$)\n",
    "        * calculate $z_{x, \\; t+1}$\n",
    "        \n",
    "At every timestep, we will use the elevations at time $t$ to calculate the elevations at time $t+1$. We need to create a new array of the same size as the old profile to store the values of the new profile. We will also create a new variable to keep track of the old profile. Because NumPy arrays are mutable objects, we need to make a copy of the profile object."
   ]
  },
  {
   "cell_type": "code",
   "execution_count": 5,
   "metadata": {
    "collapsed": false
   },
   "outputs": [
    {
     "name": "stdout",
     "output_type": "stream",
     "text": [
      "(500,) (500,)\n",
      "3668.7078 0.0\n"
     ]
    }
   ],
   "source": [
    "newProfile = np.zeros_like(profile)\n",
    "\n",
    "print profile.shape, newProfile.shape\n",
    "print profile.max(), newProfile.max()"
   ]
  },
  {
   "cell_type": "markdown",
   "metadata": {
    "collapsed": true
   },
   "source": [
    "The new value of any one point using the finite difference diffusion equation depends on the values of that point and its two neighbors, so we have to decide what to do about the first and last cells in the profile, since they only have one neighbor. The simplest solution is to keep their elevation fixed and not let them evolve:"
   ]
  },
  {
   "cell_type": "code",
   "execution_count": 6,
   "metadata": {
    "collapsed": true
   },
   "outputs": [],
   "source": [
    "newProfile[0] = profile[0]\n",
    "newProfile[-1] = profile[-1]"
   ]
  },
  {
   "cell_type": "markdown",
   "metadata": {},
   "source": [
    "We can now use the finite difference diffusion equation to calculate the elevation of the interior cells of the profile after one timestep.\n",
    "\n",
    "For the cell with index 1, we can write the equation as:"
   ]
  },
  {
   "cell_type": "code",
   "execution_count": 10,
   "metadata": {
    "collapsed": false
   },
   "outputs": [
    {
     "name": "stdout",
     "output_type": "stream",
     "text": [
      "3082.6816\n",
      "3082.8401\n"
     ]
    }
   ],
   "source": [
    "K = 1\n",
    "dt = 1\n",
    "dx = 2 #meters\n",
    "\n",
    "newProfile[1] = profile[1] + K * dt * (profile[2] - 2 * profile[1] + profile[0]) / dx**2\n",
    "\n",
    "print profile[1]\n",
    "print newProfile[1]"
   ]
  },
  {
   "cell_type": "markdown",
   "metadata": {},
   "source": [
    "We chose dummy values for $K$ and $dt$. The value of $dx$ is the cell spacing in the original topo raster.\n",
    "\n",
    "The equation for the elevation of the cell with index 2 is very similar:"
   ]
  },
  {
   "cell_type": "code",
   "execution_count": 12,
   "metadata": {
    "collapsed": false
   },
   "outputs": [
    {
     "name": "stdout",
     "output_type": "stream",
     "text": [
      "3082.6816 3085.4751\n",
      "3082.8401 3085.8378\n"
     ]
    }
   ],
   "source": [
    "newProfile[2] = profile[2] + K * dt * (profile[3] - 2 * profile[2] + profile[1]) / dx**2\n",
    "\n",
    "print profile[1], profile[2]\n",
    "print newProfile[1], newProfile[2]"
   ]
  },
  {
   "cell_type": "markdown",
   "metadata": {},
   "source": [
    "We could keep doing this for every single cell in the array, but it would get boring very quickly! The code would also not scale very well, since we wouldn't be able to use it for longer or shorter profiles. It would also be very fragile, since it's likely that we would accidentally introduce an error into the code by mistyping something.\n",
    "\n",
    "Automating repetitive tasks is best accomplished with a loop. A For Loop repeats a set of actions for every item in a collection (every letter in a word, every number in some range, every name in a list) until it runs out of items:"
   ]
  },
  {
   "cell_type": "code",
   "execution_count": 13,
   "metadata": {
    "collapsed": false
   },
   "outputs": [
    {
     "name": "stdout",
     "output_type": "stream",
     "text": [
      "l\n",
      "e\n",
      "a\n",
      "d\n"
     ]
    }
   ],
   "source": [
    "word = 'lead'\n",
    "for char in word:\n",
    "    print char"
   ]
  },
  {
   "cell_type": "markdown",
   "metadata": {},
   "source": [
    "This is shorter than writing individual statements for printing every letter in the word and it easy scales to longer or shorter words:"
   ]
  },
  {
   "cell_type": "code",
   "execution_count": 16,
   "metadata": {
    "collapsed": false
   },
   "outputs": [
    {
     "name": "stdout",
     "output_type": "stream",
     "text": [
      "a\n",
      "l\n",
      "u\n",
      "m\n",
      "i\n",
      "n\n",
      "i\n",
      "u\n",
      "m\n"
     ]
    }
   ],
   "source": [
    "word = 'aluminium'\n",
    "for char in word:\n",
    "    print char"
   ]
  },
  {
   "cell_type": "code",
   "execution_count": 15,
   "metadata": {
    "collapsed": false
   },
   "outputs": [
    {
     "name": "stdout",
     "output_type": "stream",
     "text": [
      "t\n",
      "i\n",
      "n\n"
     ]
    }
   ],
   "source": [
    "word = 'tin'\n",
    "for char in word:\n",
    "    print char"
   ]
  },
  {
   "cell_type": "markdown",
   "metadata": {},
   "source": [
    "The general form of a for loop is:"
   ]
  },
  {
   "cell_type": "code",
   "execution_count": null,
   "metadata": {
    "collapsed": true
   },
   "outputs": [],
   "source": [
    "for item in collection:\n",
    "    do things with item"
   ]
  },
  {
   "cell_type": "markdown",
   "metadata": {},
   "source": [
    "A for loop starts with the word \"for\", then the variable name that each item in the collection is going to take inside the loop, then the word \"in\", and then the collection or sequence of items to loop through.\n",
    "\n",
    "In Python, there must be a colon at the end of the line starting the loop. The commands that are run repeatedly inside the loop are indented below that. Unlike many other languages, there is no command to end a loop (e.g. `end for`): the loop ends once the indentation moves back."
   ]
  },
  {
   "cell_type": "code",
   "execution_count": 17,
   "metadata": {
    "collapsed": false
   },
   "outputs": [
    {
     "name": "stdout",
     "output_type": "stream",
     "text": [
      "There are 8 letters in elephant\n"
     ]
    }
   ],
   "source": [
    "length = 0\n",
    "word = 'elephant'\n",
    "for letter in word:\n",
    "    length = length + 1\n",
    "print 'There are', length, 'letters in', word"
   ]
  },
  {
   "cell_type": "markdown",
   "metadata": {},
   "source": [
    "It’s worth tracing the execution of this little program step by step. Since there are eight characters in ‘elephant’, the statement inside the loop will be executed eight times. The first time around, `length` is zero (the value assigned to it on line 1) and `letter` is \"e\". The code adds 1 to the old value of `length`, producing 1, and updates `length` to refer to that new value. The next time the loop starts, `letter` is \"l\" and `length` is 1, so `length` is updated to 2. Once there are no characters left in \"elephant\" for Python to assign to `letter`, the loop finishes and the `print` statement tells us the final value of length.\n",
    "\n",
    "Note that a loop variable is just a variable that’s being used to record progress in a loop. It still exists after the loop is over (and has the last value it had inside the loop). We can re-use variables previously defined as loop variables, overwriting their value:"
   ]
  },
  {
   "cell_type": "code",
   "execution_count": 19,
   "metadata": {
    "collapsed": false
   },
   "outputs": [
    {
     "name": "stdout",
     "output_type": "stream",
     "text": [
      "a\n",
      "b\n",
      "c\n",
      "after the loop, letter is c\n"
     ]
    }
   ],
   "source": [
    "letter = 'z'\n",
    "for letter in 'abc':\n",
    "    print letter\n",
    "print 'after the loop, letter is', letter"
   ]
  },
  {
   "cell_type": "markdown",
   "metadata": {},
   "source": [
    "# add callout and exercises from 03-loops"
   ]
  },
  {
   "cell_type": "code",
   "execution_count": null,
   "metadata": {
    "collapsed": true
   },
   "outputs": [],
   "source": []
  }
 ],
 "metadata": {
  "kernelspec": {
   "display_name": "Python 2",
   "language": "python",
   "name": "python2"
  },
  "language_info": {
   "codemirror_mode": {
    "name": "ipython",
    "version": 2
   },
   "file_extension": ".py",
   "mimetype": "text/x-python",
   "name": "python",
   "nbconvert_exporter": "python",
   "pygments_lexer": "ipython2",
   "version": "2.7.11"
  }
 },
 "nbformat": 4,
 "nbformat_minor": 0
}
