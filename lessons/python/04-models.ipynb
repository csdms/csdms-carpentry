{
 "cells": [
  {
   "cell_type": "markdown",
   "metadata": {},
   "source": [
    "Many members of our community focus on developing numerical models to study how landscapes evolve over time. The simplest and most commonly used transport law used to capture the evolution of hillslopes is a diffusion equation:\n",
    "\n",
    "$$\\frac{\\partial z}{\\partial t} = K \\; \\frac{\\partial^2 z}{\\partial x^2}$$\n",
    "\n",
    "where $z$ is elevation, $x$ is the horizontal distance, and $K$ is a landscape diffusion coefficient.\n",
    "\n",
    "## Finite difference methods\n",
    "\n",
    "We can solve partial differential equations using finite difference methods by replacing the spatial and time derivatives with approximations that use the gridded data. $xx$ is the index along an array of x positions and $tt$ is the timestep.\n",
    "\n",
    "The time derivative $\\partial z/\\partial t$ can be approximated using a forward difference:\n",
    "\n",
    "$$\\frac{\\partial z}{\\partial t} \\approx \\frac{z_{xx, \\; tt+1} - z_{xx, \\; tt}}{d t}$$\n",
    "\n",
    "The second spatial derivative $\\frac{\\partial^2 z}{\\partial x^2}$ can be approximated by combining a forward and a backwards difference:\n",
    "\n",
    "$$\\frac{\\partial^2 z}{\\partial x^2} \\approx \\frac{z_{xx+1, \\; tt} - 2 z_{xx, \\; tt} + z_{xx-1, \\; tt}}{(d x)^2}$$\n",
    "\n",
    "The diffusion equation can then be rewritten as:\n",
    "\n",
    "$$\\frac{z_{xx, \\; tt+1} - z_{xx, \\; tt}}{d t} = K \\;  \\frac{z_{xx+1, \\; tt} - 2 z_{xx, \\; tt} + z_{xx-1, \\; tt}}{(d x)^2}$$\n",
    "\n",
    "We can rearrange this equation to solve for the elevation $z$ at position $x$ at timestep $t+1$:\n",
    "\n",
    "$$z_{xx, \\; tt+1} = z_{xx, \\; tt} + K \\; d t \\; \\frac{z_{xx+1, \\; tt} - 2 z_{xx, \\; tt} + z_{xx-1, \\; tt}}{(d x)^2}$$\n",
    "\n",
    "Essentially, the elevation of a point at any timestep depends on the elevation of that point and its two neighbors at the previous timestep\n",
    "\n",
    "[[[[[[[[[[[[[[[[[[[[add fig here]]]]]]]]]]]]]]]]]]]]]"
   ]
  },
  {
   "cell_type": "markdown",
   "metadata": {},
   "source": [
    "## Diffusion in 1D\n",
    "\n",
    "Let's start by simulating the evolution of a 1D profile across our dataset due to diffusion. First, we need to extract a profile across the DEM:"
   ]
  },
  {
   "cell_type": "code",
   "execution_count": 2,
   "metadata": {
    "collapsed": false
   },
   "outputs": [
    {
     "data": {
      "text/plain": [
       "[<matplotlib.lines.Line2D at 0x105eaa150>]"
      ]
     },
     "execution_count": 2,
     "metadata": {},
     "output_type": "execute_result"
    },
    {
     "data": {
      "image/png": "[encoded data removed]",
      "text/plain": [
       "<matplotlib.figure.Figure at 0x1054b7c10>"
      ]
     },
     "metadata": {},
     "output_type": "display_data"
    }
   ],
   "source": [
    "import numpy as np\n",
    "from matplotlib import pyplot as plt\n",
    "%matplotlib inline\n",
    "\n",
    "topo = np.loadtxt('data/topo.asc', delimiter=',')\n",
    "\n",
    "profile = topo[:,120]\n",
    "\n",
    "plt.plot(profile, 'k*-')"
   ]
  },
  {
   "cell_type": "markdown",
   "metadata": {},
   "source": [
    "This is the topography at time $t = 0$. For every point in the array, the topography at time $t = dt$ is going to be given by the equation above.\n",
    "\n",
    "Let's create a new NumPy array of the same shape as the profile where we can store the values of the new elevation values. The NumPy function `zeros_like()` creates an array of the same shape where every entry is zero:\n",
    "\n",
    "\n",
    "\n",
    "\n",
    "\n",
    "Let's now model the evolution of this profile due to diffusion.\n",
    "\n",
    "\n",
    "\n",
    "\n",
    "We will follow this algorithm:\n",
    "\n",
    "* loop through time ($\\; d t \\;$)\n",
    "    * step through the profile ($\\; d x \\;$)\n",
    "        * calculate $z_{x, \\; t+1}$\n",
    "        \n",
    "At every timestep, we will use the elevations at time $t$ to calculate the elevations at time $t+1$. We need to create a new array of the same size as the old profile to store the values of the new profile. We will also create a new variable to keep track of the old profile. Because NumPy arrays are mutable objects, we need to make a copy of the profile object."
   ]
  },
  {
   "cell_type": "code",
   "execution_count": 3,
   "metadata": {
    "collapsed": false
   },
   "outputs": [
    {
     "name": "stdout",
     "output_type": "stream",
     "text": [
      "(500,) 3668.7078\n",
      "(500,) 0.0\n"
     ]
    }
   ],
   "source": [
    "newProfile = np.zeros_like(profile)\n",
    "\n",
    "print profile.shape, profile.max()\n",
    "print newProfile.shape, newProfile.max()"
   ]
  },
  {
   "cell_type": "markdown",
   "metadata": {
    "collapsed": true
   },
   "source": [
    "The new value of any one point using the finite difference diffusion equation depends on the values of that point and its two neighbors, so we have to decide what to do about the first and last cells in the profile, since they only have one neighbor. The simplest solution is to keep their elevation fixed and not let them evolve:"
   ]
  },
  {
   "cell_type": "code",
   "execution_count": 4,
   "metadata": {
    "collapsed": true
   },
   "outputs": [],
   "source": [
    "newProfile[0] = profile[0]\n",
    "newProfile[-1] = profile[-1]"
   ]
  },
  {
   "cell_type": "markdown",
   "metadata": {},
   "source": [
    "We can now use the finite difference diffusion equation to calculate the elevation of the interior cells of the profile after one timestep.\n",
    "\n",
    "For the cell with index 1, we can write the equation as:"
   ]
  },
  {
   "cell_type": "code",
   "execution_count": 5,
   "metadata": {
    "collapsed": false
   },
   "outputs": [
    {
     "name": "stdout",
     "output_type": "stream",
     "text": [
      "[ 3080.0466  3082.6816  3085.4751]\n",
      "[ 3080.0466    3082.721225     0.      ]\n"
     ]
    }
   ],
   "source": [
    "K = 1\n",
    "dt = 1\n",
    "dx = 2 #meters\n",
    "\n",
    "newProfile[1] = profile[1] + K * dt * (profile[2] - 2 * profile[1] + profile[0]) / dx**2\n",
    "\n",
    "print profile[0:3]\n",
    "print newProfile[0:3]"
   ]
  },
  {
   "cell_type": "markdown",
   "metadata": {},
   "source": [
    "We chose dummy values for $K$ and $dt$. The value of $dx$ is the cell spacing in the original topo raster.\n",
    "\n",
    "The equation for the elevation of the cell with index 2 is very similar:"
   ]
  },
  {
   "cell_type": "code",
   "execution_count": 6,
   "metadata": {
    "collapsed": false
   },
   "outputs": [
    {
     "name": "stdout",
     "output_type": "stream",
     "text": [
      "[ 3080.0466  3082.6816  3085.4751]\n",
      "[ 3080.0466    3082.721225  3085.565775]\n"
     ]
    }
   ],
   "source": [
    "newProfile[2] = profile[2] + K * dt * (profile[3] - 2 * profile[2] + profile[1]) / dx**2\n",
    "\n",
    "print profile[0:3]\n",
    "print newProfile[0:3]"
   ]
  },
  {
   "cell_type": "markdown",
   "metadata": {},
   "source": [
    "We could keep doing this for every single cell in the array, but it would get boring very quickly! The code would also not scale very well, since we wouldn't be able to use it for longer or shorter profiles. It would also be very fragile, since it's likely that we would accidentally introduce an error into the code by mistyping something."
   ]
  },
  {
   "cell_type": "markdown",
   "metadata": {},
   "source": [
    "## For loops\n",
    "\n",
    "Automating repetitive tasks is best accomplished with a loop. A For Loop repeats a set of actions for every item in a collection (every letter in a word, every number in some range, every name in a list) until it runs out of items:"
   ]
  },
  {
   "cell_type": "code",
   "execution_count": 13,
   "metadata": {
    "collapsed": false
   },
   "outputs": [
    {
     "name": "stdout",
     "output_type": "stream",
     "text": [
      "l\n",
      "e\n",
      "a\n",
      "d\n"
     ]
    }
   ],
   "source": [
    "word = 'lead'\n",
    "for char in word:\n",
    "    print char"
   ]
  },
  {
   "cell_type": "markdown",
   "metadata": {},
   "source": [
    "This is shorter than writing individual statements for printing every letter in the word and it easy scales to longer or shorter words:"
   ]
  },
  {
   "cell_type": "code",
   "execution_count": 16,
   "metadata": {
    "collapsed": false
   },
   "outputs": [
    {
     "name": "stdout",
     "output_type": "stream",
     "text": [
      "a\n",
      "l\n",
      "u\n",
      "m\n",
      "i\n",
      "n\n",
      "i\n",
      "u\n",
      "m\n"
     ]
    }
   ],
   "source": [
    "word = 'aluminium'\n",
    "for char in word:\n",
    "    print char"
   ]
  },
  {
   "cell_type": "code",
   "execution_count": 15,
   "metadata": {
    "collapsed": false
   },
   "outputs": [
    {
     "name": "stdout",
     "output_type": "stream",
     "text": [
      "t\n",
      "i\n",
      "n\n"
     ]
    }
   ],
   "source": [
    "word = 'tin'\n",
    "for char in word:\n",
    "    print char"
   ]
  },
  {
   "cell_type": "markdown",
   "metadata": {},
   "source": [
    "The general form of a for loop is:"
   ]
  },
  {
   "cell_type": "code",
   "execution_count": null,
   "metadata": {
    "collapsed": true
   },
   "outputs": [],
   "source": [
    "for item in collection:\n",
    "    do things with item"
   ]
  },
  {
   "cell_type": "markdown",
   "metadata": {},
   "source": [
    "A for loop starts with the word \"for\", then the variable name that each item in the collection is going to take inside the loop, then the word \"in\", and then the collection or sequence of items to loop through.\n",
    "\n",
    "In Python, there must be a colon at the end of the line starting the loop. The commands that are run repeatedly inside the loop are indented below that. Unlike many other languages, there is no command to end a loop (e.g. `end for`): the loop ends once the indentation moves back."
   ]
  },
  {
   "cell_type": "code",
   "execution_count": 17,
   "metadata": {
    "collapsed": false
   },
   "outputs": [
    {
     "name": "stdout",
     "output_type": "stream",
     "text": [
      "There are 8 letters in elephant\n"
     ]
    }
   ],
   "source": [
    "length = 0\n",
    "word = 'elephant'\n",
    "for letter in word:\n",
    "    length = length + 1\n",
    "print 'There are', length, 'letters in', word"
   ]
  },
  {
   "cell_type": "markdown",
   "metadata": {},
   "source": [
    "It’s worth tracing the execution of this little program step by step. Since there are eight characters in ‘elephant’, the statement inside the loop will be executed eight times. The first time around, `length` is zero (the value assigned to it on line 1) and `letter` is \"e\". The code adds 1 to the old value of `length`, producing 1, and updates `length` to refer to that new value. The next time the loop starts, `letter` is \"l\" and `length` is 1, so `length` is updated to 2. Once there are no characters left in \"elephant\" for Python to assign to `letter`, the loop finishes and the `print` statement tells us the final value of length.\n",
    "\n",
    "Note that a loop variable is just a variable that’s being used to record progress in a loop. It still exists after the loop is over (and has the last value it had inside the loop). We can re-use variables previously defined as loop variables, overwriting their value:"
   ]
  },
  {
   "cell_type": "code",
   "execution_count": 19,
   "metadata": {
    "collapsed": false
   },
   "outputs": [
    {
     "name": "stdout",
     "output_type": "stream",
     "text": [
      "a\n",
      "b\n",
      "c\n",
      "after the loop, letter is c\n"
     ]
    }
   ],
   "source": [
    "letter = 'z'\n",
    "for letter in 'abc':\n",
    "    print letter\n",
    "print 'after the loop, letter is', letter"
   ]
  },
  {
   "cell_type": "markdown",
   "metadata": {},
   "source": [
    "# add callout and exercises from 03-loops"
   ]
  },
  {
   "cell_type": "markdown",
   "metadata": {
    "collapsed": true
   },
   "source": [
    "## Looping through the profile\n",
    "\n",
    "Instead of writing the same equation for each cell in the profile, let's intead use a for loop that runs the equation for each of the interior cells."
   ]
  },
  {
   "cell_type": "markdown",
   "metadata": {},
   "source": [
    "## From 0 to N-1 {.callout}\n",
    "\n",
    "Python has a built-in function called `range` for creating a sequence of integers. `range` can accept 1-3 parameters. If it gets one parameter as input, `range` creates a list of that length starting at zero and incrementing by 1. If it gets 2 parameters as input, `range` starts at the first and ends at the second, incrementing by one. If `range` is passed 3 parameters, it stars at the first one, ends at the second one, and increments by the third one. For example, `range(3)` produces a list with the numbers 0, 1, 2, `range(2, 5)` produces 2, 3, 4, and `range(3, 10, 3)` produces 3, 6, 9."
   ]
  },
  {
   "cell_type": "markdown",
   "metadata": {},
   "source": [
    "We can write a for loop that calls each of the cells of the profile by their index. Since we are fixing the elevation of the first and last cell, our loop should apply the equation for cells with indices 1 through `len(profile)-1`:"
   ]
  },
  {
   "cell_type": "code",
   "execution_count": 15,
   "metadata": {
    "collapsed": false
   },
   "outputs": [
    {
     "data": {
      "text/plain": [
       "[<matplotlib.lines.Line2D at 0x105e44e10>]"
      ]
     },
     "execution_count": 15,
     "metadata": {},
     "output_type": "execute_result"
    },
    {
     "data": {
      "image/png": "[encoded data removed]",
      "text/plain": [
       "<matplotlib.figure.Figure at 0x107069090>"
      ]
     },
     "metadata": {},
     "output_type": "display_data"
    }
   ],
   "source": [
    "for i in range(1,len(profile)-1):\n",
    "    newProfile[i] = profile[i] + K * dt * (profile[i+1] - 2 * profile[i] + profile[i-1]) / dx**2\n",
    "    \n",
    "plt.plot(profile - newProfile)"
   ]
  },
  {
   "cell_type": "markdown",
   "metadata": {},
   "source": [
    "We can now put together a script that will evolve the profile by one timestep:"
   ]
  },
  {
   "cell_type": "code",
   "execution_count": 16,
   "metadata": {
    "collapsed": true
   },
   "outputs": [],
   "source": [
    "import numpy as np\n",
    "from matplotlib import pyplot as plt\n",
    "%matplotlib inline\n",
    "\n",
    "topo = np.loadtxt('data/topo.asc', delimiter=',')\n",
    "profile = topo[:,120]\n",
    "\n",
    "K = 1\n",
    "dt = 1\n",
    "dx = 2 #meters\n",
    "\n",
    "newProfile = np.zeros_like(profile)\n",
    "\n",
    "newProfile[0] = profile[0]\n",
    "newProfile[-1] = profile[-1]\n",
    "\n",
    "for i in range(1,len(profile)-1):\n",
    "    newProfile[i] = profile[i] + K * dt * (profile[i+1] - 2 * profile[i] + profile[i-1]) / dx**2"
   ]
  },
  {
   "cell_type": "markdown",
   "metadata": {},
   "source": [
    "## Vectorized math is faster! {.callout}\n",
    "\n",
    "Python, like Matlab, will (usually!) do math in numerical arrays much faster if the code is vectorized than using loops. You should avoid loops when doing math to make your code as efficient as possible -- our script is a very bad example!"
   ]
  },
  {
   "cell_type": "markdown",
   "metadata": {},
   "source": [
    "One timestep is not enough time for the topographic profile to evolve much. We could increase the value of `dt`, but we can't change it much before the code becomes numerically unstable. Instead, we want to run our code repeatedly so the profile can change gradually. We can wrap it all in another for loop that steps through time:"
   ]
  },
  {
   "cell_type": "code",
   "execution_count": 17,
   "metadata": {
    "collapsed": true
   },
   "outputs": [],
   "source": [
    "import numpy as np\n",
    "from matplotlib import pyplot as plt\n",
    "%matplotlib inline\n",
    "\n",
    "topo = np.loadtxt('data/topo.asc', delimiter=',')\n",
    "profile = topo[:,120]\n",
    "\n",
    "K = 1\n",
    "dt = 1\n",
    "dx = 2 #meters\n",
    "\n",
    "maxt = 10\n",
    "\n",
    "for t in range(0,maxt,dt):\n",
    "\n",
    "    newProfile = np.zeros_like(profile)\n",
    "\n",
    "    newProfile[0] = profile[0]\n",
    "    newProfile[-1] = profile[-1]\n",
    "\n",
    "    for i in range(1,len(profile)-1):\n",
    "        newProfile[i] = profile[i] + K * dt * (profile[i+1] - 2 * profile[i] + profile[i-1]) / dx**2"
   ]
  },
  {
   "cell_type": "markdown",
   "metadata": {},
   "source": [
    "There is a problem with this script: the time loop is always calculating the evolution of the original topography, not the new profile! We need to rewrite our script so the \"new\" profile becomes the \"old\" profile before running the loop again. Because NumPy arrays are immutable objects, we need to make a true copy of the new profile instead of just using the equal sign. Let's also add a plotting function so we can see how the profile changes over time:"
   ]
  },
  {
   "cell_type": "code",
   "execution_count": 22,
   "metadata": {
    "collapsed": false
   },
   "outputs": [
    {
     "data": {
      "image/png": "[encoded data removed]",
      "text/plain": [
       "<matplotlib.figure.Figure at 0x107f52050>"
      ]
     },
     "metadata": {},
     "output_type": "display_data"
    }
   ],
   "source": [
    "import numpy as np\n",
    "from matplotlib import pyplot as plt\n",
    "%matplotlib inline\n",
    "\n",
    "topo = np.loadtxt('data/topo.asc', delimiter=',')\n",
    "profile = topo[:,120]\n",
    "\n",
    "K = 1\n",
    "dt = 1\n",
    "dx = 2 #meters\n",
    "\n",
    "maxt = 50\n",
    "\n",
    "plt.plot(profile, hold=True)\n",
    "\n",
    "for t in range(0,maxt,dt):\n",
    "\n",
    "    newProfile = np.zeros_like(profile)\n",
    "\n",
    "    newProfile[0] = profile[0]\n",
    "    newProfile[-1] = profile[-1]\n",
    "\n",
    "    for i in range(1,len(profile)-1):\n",
    "        newProfile[i] = profile[i] + K * dt * (profile[i+1] - 2 * profile[i] + profile[i-1]) / dx**2\n",
    "        \n",
    "    profile = newProfile.copy()\n",
    "    \n",
    "    plt.plot(profile)\n",
    "    plt.xlim((200,250))\n",
    "    plt.ylim((3450,3550))\n",
    "    "
   ]
  },
  {
   "cell_type": "markdown",
   "metadata": {},
   "source": [
    "## Numerical instabilities {.challenge}\n",
    "\n",
    "Consider three cells somewhere in the profile where the middle cell is the lowest. Using the diffusion equation, we can see that the two outer cells would be dropping in elevation and the middle one would be moving up. What might the profile look like after one timestep if the value of `dt` is very (very!) large? (Hint: Stop thinking of the real world and look at the equation. What does `dt` do to each term?)"
   ]
  },
  {
   "cell_type": "markdown",
   "metadata": {},
   "source": [
    "We can see that the topographic profile is evolving if we zoom into the plot but, because we are plotting every time we go around the time loop, there are too many lines and they are too close together to differentiate between them. Instead, let's only run the plotting commands every 10 timesteps.\n",
    "\n",
    "There are several ways we can detect when 10 timesteps have passed:\n",
    "\n",
    "* Add a counter that increases by 1 every time the time loop runs. When the counter is equal to 10, the counter resets to 0.\n",
    "\n",
    "* The value of the loop variable `t` will be divisible by `10*dt` every 10 timesteps. The Modulus operator `%` divides two numbers and returns the remainder, so the operation `t%(10*dt)` will be equal to zero every 10 timesteps.\n",
    "\n",
    "\n",
    "## Making Choices\n",
    "\n",
    "When analyzing data, we’ll often want to automatically recognize differences between values and take different actions on the data depending on some conditions. Here, we’ll learn how to write code that runs only when certain conditions are true.\n",
    "\n",
    "### Conditionals\n",
    "We can ask Python to running different commands depending on a condition with an if statement:"
   ]
  },
  {
   "cell_type": "code",
   "execution_count": 23,
   "metadata": {
    "collapsed": false
   },
   "outputs": [
    {
     "name": "stdout",
     "output_type": "stream",
     "text": [
      "not greater\n",
      "done\n"
     ]
    }
   ],
   "source": [
    "num = 42\n",
    "\n",
    "if num > 100:\n",
    "    print 'greater'\n",
    "else:\n",
    "    print 'not greater'\n",
    "    \n",
    "print 'done'"
   ]
  },
  {
   "cell_type": "markdown",
   "metadata": {},
   "source": [
    "The second line of this code uses the keyword `if` to tell Python that we want to make a choice. If the test that follows the `if` statement is true, the commands in the indented block are executed. If the test is false, the indented block beneath the else is executed instead. Only one or the other is ever executed.\n",
    "\n",
    "Conditional statements don’t have to include an `else`. If there isn’t one, Python simply does nothing if the test is false:"
   ]
  },
  {
   "cell_type": "code",
   "execution_count": 24,
   "metadata": {
    "collapsed": false
   },
   "outputs": [
    {
     "name": "stdout",
     "output_type": "stream",
     "text": [
      "before conditional...\n",
      "...after conditional\n"
     ]
    }
   ],
   "source": [
    "num = 42\n",
    "print 'before conditional...'\n",
    "if num > 100:\n",
    "    print num, 'is greater than 100'\n",
    "print '...after conditional'"
   ]
  },
  {
   "cell_type": "markdown",
   "metadata": {},
   "source": [
    "We can also chain several tests together using `elif`, which is short for “else if”. The following Python code uses elif to print the sign of a number. We use a double equals sign `==` to test for equality between two values. The single equal sign is used for assignment:"
   ]
  },
  {
   "cell_type": "code",
   "execution_count": 25,
   "metadata": {
    "collapsed": false
   },
   "outputs": [
    {
     "name": "stdout",
     "output_type": "stream",
     "text": [
      "-3 is negative\n"
     ]
    }
   ],
   "source": [
    "num = -3\n",
    "\n",
    "if num > 0:\n",
    "    print num, \"is positive\"\n",
    "elif num == 0:\n",
    "    print num, \"is zero\"\n",
    "else:\n",
    "    print num, \"is negative\""
   ]
  },
  {
   "cell_type": "markdown",
   "metadata": {},
   "source": [
    "We can also combine tests using `and` and `or`. `and` is only true if both parts are true:"
   ]
  },
  {
   "cell_type": "code",
   "execution_count": 26,
   "metadata": {
    "collapsed": false
   },
   "outputs": [
    {
     "name": "stdout",
     "output_type": "stream",
     "text": [
      "at least one test is false\n"
     ]
    }
   ],
   "source": [
    "if (1 > 0) and (-1 > 0):\n",
    "    print 'both tests are true'\n",
    "else:\n",
    "    print 'at least one test is false'"
   ]
  },
  {
   "cell_type": "markdown",
   "metadata": {},
   "source": [
    "while `or` is true if at least one part is true:"
   ]
  },
  {
   "cell_type": "code",
   "execution_count": 27,
   "metadata": {
    "collapsed": false
   },
   "outputs": [
    {
     "name": "stdout",
     "output_type": "stream",
     "text": [
      "at least one test is true\n"
     ]
    }
   ],
   "source": [
    "if (1 > 0) or (-1 > 0):\n",
    "    print 'at least one test is true'\n",
    "else:\n",
    "    print 'neither test is true'"
   ]
  },
  {
   "cell_type": "markdown",
   "metadata": {},
   "source": [
    "## add challenges from conditionals"
   ]
  },
  {
   "cell_type": "markdown",
   "metadata": {},
   "source": [
    "Let's add a counter to our script so a line is added to the plot only once every 10 timesteps:"
   ]
  },
  {
   "cell_type": "code",
   "execution_count": 31,
   "metadata": {
    "collapsed": false
   },
   "outputs": [
    {
     "data": {
      "image/png": "[encoded data removed]",
      "text/plain": [
       "<matplotlib.figure.Figure at 0x107f23b90>"
      ]
     },
     "metadata": {},
     "output_type": "display_data"
    }
   ],
   "source": [
    "import numpy as np\n",
    "from matplotlib import pyplot as plt\n",
    "%matplotlib inline\n",
    "\n",
    "topo = np.loadtxt('data/topo.asc', delimiter=',')\n",
    "profile = topo[:,120]\n",
    "\n",
    "K = 1\n",
    "dt = 1\n",
    "dx = 2 #meters\n",
    "\n",
    "maxt = 50\n",
    "counter = 0\n",
    "\n",
    "plt.plot(profile, hold=True)\n",
    "\n",
    "for t in range(0,maxt,dt):\n",
    "\n",
    "    newProfile = np.zeros_like(profile)\n",
    "\n",
    "    newProfile[0] = profile[0]\n",
    "    newProfile[-1] = profile[-1]\n",
    "\n",
    "    for i in range(1,len(profile)-1):\n",
    "        newProfile[i] = profile[i] + K * dt * (profile[i+1] - 2 * profile[i] + profile[i-1]) / dx**2\n",
    "        \n",
    "    profile = newProfile.copy()\n",
    "    \n",
    "    counter = counter + 1\n",
    "    \n",
    "    if counter == 10:\n",
    "        \n",
    "        counter = 0\n",
    "    \n",
    "        plt.plot(profile)\n",
    "        plt.xlim((200,250))\n",
    "        plt.ylim((3450,3550))\n",
    "    "
   ]
  },
  {
   "cell_type": "code",
   "execution_count": null,
   "metadata": {
    "collapsed": true
   },
   "outputs": [],
   "source": []
  }
 ],
 "metadata": {
  "kernelspec": {
   "display_name": "Python 2",
   "language": "python",
   "name": "python2"
  },
  "language_info": {
   "codemirror_mode": {
    "name": "ipython",
    "version": 2
   },
   "file_extension": ".py",
   "mimetype": "text/x-python",
   "name": "python",
   "nbconvert_exporter": "python",
   "pygments_lexer": "ipython2",
   "version": "2.7.11"
  }
 },
 "nbformat": 4,
 "nbformat_minor": 0
}
