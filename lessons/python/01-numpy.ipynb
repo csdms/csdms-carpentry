{
 "cells": [
  {
   "cell_type": "markdown",
   "metadata": {},
   "source": [
    "While a lot of powerful tools are built into languages like Python, even more tools exist in libraries.\n",
    "\n",
    "In order to load our temperature data, we need to import a library called NumPy. You should use this library if you want to do fancy things with numbers, especially if you have matrices or arrays. We can load NumPy using:"
   ]
  },
  {
   "cell_type": "code",
   "execution_count": 1,
   "metadata": {
    "collapsed": true
   },
   "outputs": [],
   "source": [
    "import numpy"
   ]
  },
  {
   "cell_type": "markdown",
   "metadata": {},
   "source": [
    "Importing a library is like getting a piece of lab equipment out of a storage locker and setting it up on the bench. Libraries provide additional functionality to Python, much like a new piece of equipment adds functionality to a lab space. Once we’ve loaded the library, we can use a tool inside that library to read the data file:"
   ]
  },
  {
   "cell_type": "code",
   "execution_count": 3,
   "metadata": {
    "collapsed": false
   },
   "outputs": [
    {
     "data": {
      "text/plain": [
       "array([[ 3198.8391,  3198.123 ,  3197.1584, ...,  2583.3293,  2585.4368,\n",
       "         2589.1079],\n",
       "       [ 3198.3306,  3197.5242,  3196.4102, ...,  2582.6992,  2584.9167,\n",
       "         2587.801 ],\n",
       "       [ 3197.9968,  3196.9197,  3195.7188, ...,  2581.8328,  2583.8159,\n",
       "         2586.0325],\n",
       "       ..., \n",
       "       [ 3325.1509,  3334.7822,  3343.3154, ...,  2780.8191,  2769.3235,\n",
       "         2762.373 ],\n",
       "       [ 3325.0823,  3335.0308,  3345.4963, ...,  2775.3345,  2765.7131,\n",
       "         2759.6555],\n",
       "       [ 3326.6824,  3336.5305,  3348.1343, ...,  2769.7661,  2762.5242,\n",
       "         2756.6877]])"
      ]
     },
     "execution_count": 3,
     "metadata": {},
     "output_type": "execute_result"
    }
   ],
   "source": [
    "numpy.loadtxt('topo.asc', delimiter=',')"
   ]
  },
  {
   "cell_type": "markdown",
   "metadata": {},
   "source": [
    "The expression `numpy.loadtxt(...)` is a function call. It asks Python to run the function `loadtxt` that exists within the library `numpy`. This dotted notation, with the syntax `thing.component`, is used everywhere in Python to refer to parts of things.\n",
    "\n",
    "The function call to `numpy.loadtxt` has two parameters: the name of the file we want to read and the delimiter that separates values on a line. Both need to be character strings (or strings for short) so we write them in quotes.\n",
    "\n",
    "Within the Jupyter iPython notebook, pressing Shift+Enter runs the commands in the selected cell. Because we haven't told iPython what to do with the output of `numpy.loadtxt`, the notebook just displays it on the screen. In this case, that output is the data we just loaded. By default, only a few rows and columns are shown (with `...` to omit elements when displaying big arrays).\n",
    "\n",
    "Our call to `numpy.loadtxt` read the file but didn’t save it to memory. In order to access the data, we need to assign the values to a variable. A variable is just a name that refers to an object. Python’s variables must begin with a letter and are case sensitive. We can assign a variable name to an object using `=`."
   ]
  },
  {
   "cell_type": "markdown",
   "metadata": {},
   "source": [
    "## Naming objects {.callout}\n",
    "\n",
    "What happens when a function is called but the output is not assigned to a variable is a bit more complicated than simply not saving it. The call to `numpy.loadtxt` read the file and created an object in memory that contains the data, but because we didn't assign it to a variable name, there is no way for us to call this object. While this difference might seem irrelevant (and, in practice, it is!), it will be important to consider how variable names are assigned to objects when we talk about mutable and immutable objects later on.\n",
    "\n",
    "A good explanation of how Python handles variables and objects can be found here: https://jeffknupp.com/blog/2012/11/13/is-python-callbyvalue-or-callbyreference-neither/"
   ]
  },
  {
   "cell_type": "markdown",
   "metadata": {},
   "source": [
    "Let’s re-run numpy.loadtxt and assign the output to a variable name:"
   ]
  },
  {
   "cell_type": "code",
   "execution_count": 5,
   "metadata": {
    "collapsed": true
   },
   "outputs": [],
   "source": [
    "topo = numpy.loadtxt('topo.asc', delimiter=',')"
   ]
  },
  {
   "cell_type": "markdown",
   "metadata": {},
   "source": [
    "This command doesn’t produce any visible output. If we want to see the data, we can print the variable’s value with the command `print`:"
   ]
  },
  {
   "cell_type": "code",
   "execution_count": 6,
   "metadata": {
    "collapsed": false
   },
   "outputs": [
    {
     "name": "stdout",
     "output_type": "stream",
     "text": [
      "[[ 3198.8391  3198.123   3197.1584 ...,  2583.3293  2585.4368  2589.1079]\n",
      " [ 3198.3306  3197.5242  3196.4102 ...,  2582.6992  2584.9167  2587.801 ]\n",
      " [ 3197.9968  3196.9197  3195.7188 ...,  2581.8328  2583.8159  2586.0325]\n",
      " ..., \n",
      " [ 3325.1509  3334.7822  3343.3154 ...,  2780.8191  2769.3235  2762.373 ]\n",
      " [ 3325.0823  3335.0308  3345.4963 ...,  2775.3345  2765.7131  2759.6555]\n",
      " [ 3326.6824  3336.5305  3348.1343 ...,  2769.7661  2762.5242  2756.6877]]\n"
     ]
    }
   ],
   "source": [
    "print topo"
   ]
  },
  {
   "cell_type": "markdown",
   "metadata": {},
   "source": [
    "Using its variable name, we can ask that type of object `topo` refers to:"
   ]
  },
  {
   "cell_type": "code",
   "execution_count": 8,
   "metadata": {
    "collapsed": false
   },
   "outputs": [
    {
     "name": "stdout",
     "output_type": "stream",
     "text": [
      "<type 'numpy.ndarray'>\n"
     ]
    }
   ],
   "source": [
    "print type(topo)"
   ]
  },
  {
   "cell_type": "markdown",
   "metadata": {},
   "source": [
    "The function `type` tells us that the variable name `topo` currently refers to an N-dimensional array created by the NumPy library. The file we imported contains elevation data (in meters, 2 degree spacing) for an area along the Front Range of Colorado. We can get the shape of the array:"
   ]
  },
  {
   "cell_type": "code",
   "execution_count": 9,
   "metadata": {
    "collapsed": false
   },
   "outputs": [
    {
     "name": "stdout",
     "output_type": "stream",
     "text": [
      "(500, 500)\n"
     ]
    }
   ],
   "source": [
    "print topo.shape"
   ]
  },
  {
   "cell_type": "markdown",
   "metadata": {},
   "source": [
    "This tells us that `topo` has 500 rows and 500 columns. The object of type `numpy.ndarray` that the variable `topo` refers to has some information associated with it called attributes. This extra information describes the data in the same way an adjective describes a noun. The command `topo.shape` calls the `shape` attribute of the object assigned to `topo` that describes its dimensions. We use the same dotted notation for the attributes of objects that we use for the functions inside libraries because they have the same part-and-whole relationship."
   ]
  },
  {
   "cell_type": "markdown",
   "metadata": {},
   "source": [
    "## Who's who in the memory {.callout}\n",
    "\n",
    "You can use the whos command at any time to see what variables you have created and what modules you have loaded into the computers memory. As this is an IPython command, it will only work if you are in an IPython terminal or the Jupyter Notebook."
   ]
  },
  {
   "cell_type": "code",
   "execution_count": 10,
   "metadata": {
    "collapsed": false
   },
   "outputs": [
    {
     "name": "stdout",
     "output_type": "stream",
     "text": [
      "Variable   Type       Data/Info\n",
      "-------------------------------\n",
      "numpy      module     <module 'numpy' from '//a<...>ages/numpy/__init__.pyc'>\n",
      "topo       ndarray    500x500: 250000 elems, type `float64`, 2000000 bytes (1 Mb)\n"
     ]
    }
   ],
   "source": [
    "whos"
   ]
  },
  {
   "cell_type": "markdown",
   "metadata": {},
   "source": [
    "## Indexing\n",
    "\n",
    "We can access individual values in an array by providing an index in square brackets:"
   ]
  },
  {
   "cell_type": "code",
   "execution_count": 16,
   "metadata": {
    "collapsed": false
   },
   "outputs": [
    {
     "name": "stdout",
     "output_type": "stream",
     "text": [
      "elevation at the corner of topo: 3198.8391 meters\n"
     ]
    }
   ],
   "source": [
    "print 'elevation at the corner of topo:', topo[0,0], 'meters'"
   ]
  },
  {
   "cell_type": "code",
   "execution_count": 14,
   "metadata": {
    "collapsed": false
   },
   "outputs": [
    {
     "name": "stdout",
     "output_type": "stream",
     "text": [
      "elevation at some random spot in topo: 3251.1179 meters\n"
     ]
    }
   ],
   "source": [
    "print 'elevation at some random spot in topo:', topo[137,65], 'meters'"
   ]
  },
  {
   "cell_type": "markdown",
   "metadata": {},
   "source": [
    "When referring to values in a two dimensional array, the indices are ordered `[row,column]`. The expression `topo[137, 65]` may not surprise you but `topo[0,0]` might. Programming languages like Fortran and MATLAB start counting at 1 because that’s what (most) humans have done for thousands of years. Languages in the C family (including C++, Java, Perl, and Python) count from 0 because that’s simpler for computers to do. So if we have an M×N array in Python, the indices go from 0 to M-1 on the first axis (rows) and 0 to N-1 on the second (columns). In MATLAB, the same array (or matrix) would have indices that go from 1 to M and 1 to N. Zero-based indexing takes a bit of getting used to, but one way to remember the rule is that the index is how many steps we have to take from the start to get to the item we want."
   ]
  },
  {
   "cell_type": "markdown",
   "metadata": {},
   "source": [
    "## In the Corner {.callout}\n",
    "\n",
    "It may also surprise you that Python displays an array with the element with index [0, 0] in the upper left corner rather than the lower left. This is consistent with the way mathematicians draw matrices but different from Cartesian coordinates. The indices are (row, column) instead of (column, row) for the same reason, which can be confusing when plotting data."
   ]
  },
  {
   "cell_type": "markdown",
   "metadata": {},
   "source": [
    "## Slicing\n",
    "\n",
    "A command like `topo[137,65]` selects a single element in the array `topo`. Indices can also be used to select sections of an array. For example, we can select the top left quarter of the array like this:"
   ]
  },
  {
   "cell_type": "code",
   "execution_count": 17,
   "metadata": {
    "collapsed": false
   },
   "outputs": [
    {
     "name": "stdout",
     "output_type": "stream",
     "text": [
      "[[ 3198.8391  3198.123   3197.1584 ...,  2998.1926  2999.9968  3003.3904]\n",
      " [ 3198.3306  3197.5242  3196.4102 ...,  2999.28    3000.907   3004.8447]\n",
      " [ 3197.9968  3196.9197  3195.7188 ...,  3000.917   3002.6487  3006.6301]\n",
      " ..., \n",
      " [ 3462.7112  3464.2151  3466.0017 ...,  3374.6448  3373.2881  3371.572 ]\n",
      " [ 3464.1675  3465.2063  3465.8132 ...,  3375.3999  3373.9539  3372.1982]\n",
      " [ 3465.4448  3466.2104  3466.5806 ...,  3376.3765  3374.9121  3373.2756]]\n"
     ]
    }
   ],
   "source": [
    "print topo[0:len(topo)/2, 0:len(topo)/2]"
   ]
  },
  {
   "cell_type": "markdown",
   "metadata": {},
   "source": [
    "## len() and other built-in functions {.callout}\n",
    "\n",
    "The function `len()` returns the length of the longest axis of a sequence (a numpy array, a list, etc.). Because it is a built-in function, it is always available for the Python interpreter and doesn't have to be imported. The function `type()` is another built in function. You can read about them here: https://docs.python.org/2/library/functions.html"
   ]
  },
  {
   "cell_type": "code",
   "execution_count": null,
   "metadata": {
    "collapsed": true
   },
   "outputs": [],
   "source": []
  }
 ],
 "metadata": {
  "kernelspec": {
   "display_name": "Python 2",
   "language": "python",
   "name": "python2"
  },
  "language_info": {
   "codemirror_mode": {
    "name": "ipython",
    "version": 2
   },
   "file_extension": ".py",
   "mimetype": "text/x-python",
   "name": "python",
   "nbconvert_exporter": "python",
   "pygments_lexer": "ipython2",
   "version": "2.7.11"
  }
 },
 "nbformat": 4,
 "nbformat_minor": 0
}
